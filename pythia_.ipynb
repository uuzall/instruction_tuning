{
 "cells": [
  {
   "cell_type": "code",
   "execution_count": 1,
   "metadata": {},
   "outputs": [
    {
     "name": "stdout",
     "output_type": "stream",
     "text": [
      "NVIDIA GeForce RTX 3090\n"
     ]
    }
   ],
   "source": [
    "import bitsandbytes as bnb\n",
    "from transformers import AutoModelForCausalLM, AutoTokenizer\n",
    "import torch.nn as nn \n",
    "from torch.nn import functional as F \n",
    "import torch \n",
    "import transformers.optimization as optim \n",
    "# import torch.optim as optim \n",
    "from torch.utils.data import DataLoader\n",
    "from tqdm import trange, tqdm\n",
    "import matplotlib.pyplot as plt \n",
    "from datasets import load_dataset \n",
    "from accelerate import Accelerator, accelerator\n",
    "import pickle as pkl \n",
    "import pandas as pd\n",
    "import transformers\n",
    "import wandb \n",
    "import pandas as pd \n",
    "\n",
    "device = 'cuda' if torch.cuda.is_available() else 'cpu'\n",
    "if device == 'cuda': \n",
    "  print(torch.cuda.get_device_name()) \n",
    "else:\n",
    "  print(device) \n",
    "\n",
    "MAX_LEN = 512"
   ]
  },
  {
   "cell_type": "code",
   "execution_count": 2,
   "metadata": {},
   "outputs": [
    {
     "name": "stdout",
     "output_type": "stream",
     "text": [
      "<|padding|> left <|endoftext|>\n",
      "[1, 0]\n"
     ]
    }
   ],
   "source": [
    "tokenizer = AutoTokenizer.from_pretrained(\"/media/uzal/New Volume/hf_models/pythia-1b-deduped-v0\")\n",
    "tokenizer.pad_token = tokenizer.decode(1)\n",
    "tokenizer.padding_side = 'left'\n",
    "print(tokenizer.pad_token, tokenizer.padding_side, tokenizer.eos_token)\n",
    "print(tokenizer.encode('<|padding|><|endoftext|>'))\n",
    "model = AutoModelForCausalLM.from_pretrained(\"/media/uzal/New Volume/hf_models/pythia-1b-deduped-v0\", torch_dtype=torch.float16, device_map='auto', use_cache=True)\n",
    "\n",
    "# config = LoraConfig(\n",
    "#     peft_type= \"PREFIX_TUNING\",\n",
    "#     task_type= \"CAUSAL_LM\",\n",
    "#     inference_mode= False,\n",
    "# \t\tr = 16, \n",
    "#     lora_alpha = 32, \n",
    "#     lora_dropout=0.1, \n",
    "#     bias='none', \n",
    "# )\n",
    "# # model.enable_input_require_grads()\n",
    "# # config = get_peft_config(config)\n",
    "# model = prepare_model_for_int8_training(model)\n",
    "# model = PeftModelForCausalLM(model, config)\n",
    "# model.print_trainable_parameters()"
   ]
  },
  {
   "cell_type": "code",
   "execution_count": 3,
   "metadata": {},
   "outputs": [
    {
     "name": "stdout",
     "output_type": "stream",
     "text": [
      "15773\n"
     ]
    }
   ],
   "source": [
    "# data = pd.read_json(\"/media/uzal/New Volume/data/ShareGPT_Vicuna_unfiltered/ShareGPT_V3_unfiltered_cleaned_split.json\")\n",
    "# all_data = list() \n",
    "\n",
    "# for conversations in tqdm(data.conversations): \n",
    "# \tsen = ''\n",
    "# \tattn_map = list() \n",
    "# \tfor i in conversations: \n",
    "# \t\tif i['from'] == 'human': \n",
    "# \t\t\tsen += 'Human: ' + i['value'] + '\\n'\n",
    "# \t\t\tattn_map += list(0 for _ in range(len(tokenizer('Human: ' + i['value'] + '\\n').input_ids)))\n",
    "# \t\telse: \n",
    "# \t\t\tsen += 'Assistant: ' + i['value'] + tokenizer.eos_token + '\\n\\n'\n",
    "# \t\t\tattn_map += list(1 for _ in range(len(tokenizer('Assistant: ' + i['value'] + tokenizer.eos_token + '\\n\\n').input_ids)))\n",
    "# \tif sen != '' and len(tokenizer(sen).input_ids) <= MAX_LEN: \n",
    "# \t\tall_data.append((sen, attn_map))\n",
    "\n",
    "# with open('data/share_gpt_512_pythia.pkl', 'wb') as file: \n",
    "# \tpkl.dump(all_data, file)\n",
    "\n",
    "with open('data/share_gpt_512_pythia.pkl', 'rb') as file:\n",
    "  all_data = pkl.load(file) \n",
    "\n",
    "print(len(all_data))"
   ]
  },
  {
   "cell_type": "code",
   "execution_count": 4,
   "metadata": {},
   "outputs": [],
   "source": [
    "all_attn = torch.zeros((len(all_data), 512))\n",
    "all_inputs = list()\n",
    "\n",
    "for idx, (i, attn) in enumerate(all_data): \n",
    "\tall_attn[idx, -len(attn):] = torch.tensor(attn)\n",
    "\tall_inputs.append(i)"
   ]
  },
  {
   "cell_type": "code",
   "execution_count": 5,
   "metadata": {},
   "outputs": [
    {
     "name": "stderr",
     "output_type": "stream",
     "text": [
      "Failed to detect the name of this notebook, you can set it manually with the WANDB_NOTEBOOK_NAME environment variable to enable code saving.\n",
      "\u001b[34m\u001b[1mwandb\u001b[0m: Currently logged in as: \u001b[33muuzall\u001b[0m. Use \u001b[1m`wandb login --relogin`\u001b[0m to force relogin\n"
     ]
    },
    {
     "data": {
      "application/vnd.jupyter.widget-view+json": {
       "model_id": "63c7703e3ec54691b47b14a41221c79e",
       "version_major": 2,
       "version_minor": 0
      },
      "text/plain": [
       "VBox(children=(Label(value='Waiting for wandb.init()...\\r'), FloatProgress(value=0.016668269733296864, max=1.0…"
      ]
     },
     "metadata": {},
     "output_type": "display_data"
    },
    {
     "data": {
      "text/html": [
       "wandb version 0.15.7 is available!  To upgrade, please run:\n",
       " $ pip install wandb --upgrade"
      ],
      "text/plain": [
       "<IPython.core.display.HTML object>"
      ]
     },
     "metadata": {},
     "output_type": "display_data"
    },
    {
     "data": {
      "text/html": [
       "Tracking run with wandb version 0.15.5"
      ],
      "text/plain": [
       "<IPython.core.display.HTML object>"
      ]
     },
     "metadata": {},
     "output_type": "display_data"
    },
    {
     "data": {
      "text/html": [
       "Run data is saved locally in <code>/media/uzal/New Volume/Programming/instructgpt/wandb/run-20230730_200313-2bb3mgyt</code>"
      ],
      "text/plain": [
       "<IPython.core.display.HTML object>"
      ]
     },
     "metadata": {},
     "output_type": "display_data"
    },
    {
     "data": {
      "text/html": [
       "Syncing run <strong><a href='https://wandb.ai/uuzall/Instruct%20Training/runs/2bb3mgyt' target=\"_blank\">pythia 1b</a></strong> to <a href='https://wandb.ai/uuzall/Instruct%20Training' target=\"_blank\">Weights & Biases</a> (<a href='https://wandb.me/run' target=\"_blank\">docs</a>)<br/>"
      ],
      "text/plain": [
       "<IPython.core.display.HTML object>"
      ]
     },
     "metadata": {},
     "output_type": "display_data"
    },
    {
     "data": {
      "text/html": [
       " View project at <a href='https://wandb.ai/uuzall/Instruct%20Training' target=\"_blank\">https://wandb.ai/uuzall/Instruct%20Training</a>"
      ],
      "text/plain": [
       "<IPython.core.display.HTML object>"
      ]
     },
     "metadata": {},
     "output_type": "display_data"
    },
    {
     "data": {
      "text/html": [
       " View run at <a href='https://wandb.ai/uuzall/Instruct%20Training/runs/2bb3mgyt' target=\"_blank\">https://wandb.ai/uuzall/Instruct%20Training/runs/2bb3mgyt</a>"
      ],
      "text/plain": [
       "<IPython.core.display.HTML object>"
      ]
     },
     "metadata": {},
     "output_type": "display_data"
    }
   ],
   "source": [
    "project_name = 'pythia 1b'\n",
    "\n",
    "wandb.init(\n",
    "    project='Instruct Training', \n",
    "    entity='uuzall', \n",
    "    sync_tensorboard=True, \n",
    "    name=project_name, \n",
    "    monitor_gym=True, \n",
    "    save_code=True,\n",
    ")\n",
    "\n",
    "writer = torch.utils.tensorboard.SummaryWriter(f'runs/{project_name}')"
   ]
  },
  {
   "cell_type": "code",
   "execution_count": 6,
   "metadata": {},
   "outputs": [],
   "source": [
    "loss_fn = nn.CrossEntropyLoss(reduction='none')\n",
    "\n",
    "def calc_loss(input_ids, logits, attn): \n",
    "\tshift_labels = input_ids[..., 1:].contiguous() \n",
    "\tshift_logits = logits[..., :-1, :].contiguous() \n",
    "\tshift_attn = attn[:, -input_ids.size(1):]\n",
    "\tshift_attn = shift_attn[..., :-1].contiguous()\n",
    "\tloss = loss_fn(shift_logits.view(-1, shift_logits.size(-1)), shift_labels.view(-1))\n",
    "\tloss *= shift_attn.view(-1)\n",
    "\treturn loss.sum() / shift_attn.sum()"
   ]
  },
  {
   "cell_type": "code",
   "execution_count": 7,
   "metadata": {},
   "outputs": [],
   "source": [
    "lr = 2e-5\n",
    "bs, scale_bs = 64, 8\n",
    "steps = bs // scale_bs \n",
    "cutoff = int(len(all_data)*0.95)\n",
    "test_loss, best_test_loss = 0, 100\n",
    "n_epochs = 2\n",
    "global_step = 0 \n",
    "train_dl = DataLoader(list(zip(all_inputs[:cutoff], all_attn[:cutoff])), batch_size=scale_bs, shuffle=True, pin_memory=True)\n",
    "test_dl = DataLoader(list(zip(all_inputs[cutoff:], all_attn[cutoff:])), batch_size=scale_bs, shuffle=False, pin_memory=True)\n",
    "\n",
    "optimizer = optim.Adafactor(model.parameters(), scale_parameter=False, relative_step=False, lr=lr)\n",
    "scheduler = transformers.get_linear_schedule_with_warmup(optimizer, num_warmup_steps=int(0.03*n_epochs*len(train_dl)//steps), num_training_steps=(n_epochs*len(train_dl))//steps)\n",
    "\n",
    "accelerator = Accelerator(gradient_accumulation_steps=steps, mixed_precision='bf16') \n",
    "model, optimizer, train_dl, test_dl, scheduler = accelerator.prepare(model, optimizer, train_dl, test_dl, scheduler)"
   ]
  },
  {
   "cell_type": "code",
   "execution_count": 8,
   "metadata": {},
   "outputs": [],
   "source": [
    "def test_it(file_path, best_test_loss): \n",
    "  model.eval() \n",
    "  test_loss = 0 \n",
    "  with torch.no_grad(): \n",
    "    for (x, attn) in test_dl: \n",
    "      inputs = tokenizer(x, return_tensors=\"pt\", max_length=MAX_LEN, padding='longest', truncation=True)\n",
    "      out = model(**inputs.to(device))\n",
    "      test_loss += calc_loss(inputs.input_ids, out.logits, attn).item() * scale_bs \n",
    "\n",
    "    test_loss /= (len(all_data)-cutoff) \n",
    "  if test_loss < best_test_loss: \n",
    "    best_test_loss = test_loss \n",
    "    accelerator.wait_for_everyone() \n",
    "    unwrapped_model = accelerator.unwrap_model(model)\n",
    "    unwrapped_model.save_pretrained(file_path, save_function=accelerator.save, state_dict=accelerator.get_state_dict(model))\n",
    "  model.train()\n",
    "  return test_loss, best_test_loss"
   ]
  },
  {
   "cell_type": "code",
   "execution_count": 9,
   "metadata": {},
   "outputs": [
    {
     "name": "stderr",
     "output_type": "stream",
     "text": [
      "Epochs: 1/2: 100%|██████████| 1873/1873 [18:23<00:00,  1.70it/s, best_test_loss=1.28, loss=1.48, test_loss=1.28]  \n",
      "Epochs: 2/2: 100%|██████████| 1873/1873 [17:48<00:00,  1.75it/s, best_test_loss=1.25, loss=0.982, test_loss=1.25]  \n"
     ]
    }
   ],
   "source": [
    "for epoch in range(n_epochs): \n",
    "\tfor idx, (x, attn) in (loop := tqdm(enumerate(train_dl), total=len(train_dl))): \n",
    "\t\tinputs = tokenizer(x, return_tensors='pt', max_length=MAX_LEN, padding='longest', truncation=True)\n",
    "\t\tout = model(**inputs.to(device))\n",
    "\t\tloss = calc_loss(inputs.input_ids, out.logits, attn) / steps \n",
    "\t\taccelerator.backward(loss)\n",
    "\n",
    "\t\tif idx % steps == 0: \n",
    "\t\t\toptimizer.step() \n",
    "\t\t\tmodel.zero_grad() \n",
    "\t\t\tscheduler.step() \n",
    "\n",
    "\t\tloop.set_description(f'Epochs: {epoch+1}/{n_epochs}')\n",
    "\t\tloop.set_postfix(loss=loss.item()*steps, test_loss=test_loss, best_test_loss=best_test_loss) \n",
    "\n",
    "\t\twriter.add_scalar('charts/learning_rate', optimizer.param_groups[0]['lr'], global_step)\n",
    "\t\twriter.add_scalar('losses/train_loss', loss.item()*steps, global_step)\n",
    "\n",
    "\t\tif idx % (bs * 10) == 0: \n",
    "\t\t\ttest_loss, best_test_loss = test_it('/media/uzal/New Volume/hyperion_models/instructgpt/pythia_1.4b_best', best_test_loss)\n",
    "\t\t\twriter.add_scalar('losses/true_test_loss', test_loss, global_step)\n",
    "\n",
    "\t\tglobal_step += 1\n",
    "\n",
    "test_loss, best_test_loss = test_it('/media/uzal/New Volume/hyperion_models/instructgpt/pythia_1.4b_best', best_test_loss)"
   ]
  },
  {
   "cell_type": "code",
   "execution_count": 10,
   "metadata": {},
   "outputs": [
    {
     "name": "stdout",
     "output_type": "stream",
     "text": [
      "Human: I've made a hub site comprised of various employee moments (from onboarding to offboarding and other life events such as getting married, getting sick, etc. in between). The last employee moment is retirement (which should be separate from offboarding). How do you feel the page should look like?\n",
      "Assistant: Congratulations on creating a hub site for your employees' important moments! Including retirement as a separate category from offboarding is a great idea.\n",
      "\n",
      "When designing the retirement section of your hub site, here are some suggestions on how you could approach it:\n",
      "\n",
      "1. Create a dedicated page for retirement: Since retirement is a significant milestone in an employee's life, it's best to have a dedicated page that highlights this event. You can create a separate page for retirement, or you can link it to the offboarding page and have a separate section for retirement.\n",
      "2. Feature retired employees: You can showcase retired employees on this page by featuring their pictures, job titles, and years of service. You can also include a short message from the retiree, congratulating them on their retirement and thanking them for their service.\n",
      "3. Provide resources for retirement planning: Since retirement planning can be a daunting task for some employees, consider providing resources to help them prepare for retirement. You can include links to retirement planning tools, financial planning resources, or retirement seminars.\n",
      "4. Highlight retirement benefits: If your company offers retirement benefits, this is an excellent opportunity to promote them on this page. You can include information on retirement plans, pension plans, and other retirement benefits that your company offers.\n",
      "5. Celebrate retirement milestones: You can celebrate retirement milestones such as the number of years an employee has worked at the company or their retirement date. You can also include a section for retired employees' testimonials, where they can share their experiences and offer advice to current employees.\n",
      "6. Keep it positive: Lastly, remember to keep the retirement page positive and celebratory. Retirement is an exciting time for employees, and your page should reflect that. Avoid mentioning negative aspects such as retirement being the end of a career or a person's productive life.\n",
      "\n",
      "By following these tips, you can create a retirement page that celebrates your employees' achievements and provides helpful resources for those who are planning for retirement.<|endoftext|>\n",
      "\n",
      "\n"
     ]
    }
   ],
   "source": [
    "print(all_data[-2][0]) \n",
    "\n",
    "# Human: Why are anti viral drugs only used for life threatening viruses?\n",
    "# Assistant: Antiviral drugs are not only used for life-threatening viruses. They can be used to treat a wide range of viral infections, including both mild and severe ones. The decision to use antiviral drugs typically depends on the specific virus, the severity of the infection, and the patient's overall health.\n",
    "\n",
    "# For example, antiviral drugs are often used to treat influenza (the flu), which can be a serious and even life-threatening illness for certain people, such as older adults, young children, and people with certain underlying health conditions. Antiviral drugs can help reduce the severity and duration of the flu, and may also help prevent serious complications, such as pneumonia.\n",
    "\n",
    "# In other cases, antiviral drugs may be used to treat viral infections that are not necessarily life-threatening, but can still cause significant discomfort and disrupt a person's daily activities. For example, antiviral drugs may be used to treat herpes simplex virus (HSV) infections, which can cause painful sores on the skin or mucous membranes.\n",
    "\n",
    "# Overall, the decision to use antiviral drugs to treat a viral infection depends on a variety of factors, including the specific virus, the severity of the infection, and the potential risks and benefits of treatment."
   ]
  },
  {
   "cell_type": "code",
   "execution_count": 11,
   "metadata": {},
   "outputs": [
    {
     "name": "stderr",
     "output_type": "stream",
     "text": [
      "Setting `pad_token_id` to `eos_token_id`:0 for open-end generation.\n"
     ]
    },
    {
     "name": "stdout",
     "output_type": "stream",
     "text": [
      "Human: I've made a hub site comprised of various employee moments (from onboarding to offboarding and other life events such as getting married, getting sick, etc. in between). The last employee moment is retirement (which should be separate from offboarding). How do you feel the page should look like?\n",
      "Assistant: The page you have described is a comprehensive hub of employee moments, with the last employee moment being retirement. This is a good approach as it allows for easy navigation and allows for easy access to all the employee moments.\n",
      "\n",
      "The page should have a clear organizational structure and should be easy to navigate. The navigation should be consistent across all the employee moments pages, and the page should have a clear layout that is easy to read and understand.\n",
      "\n",
      "The page should also have a clear message or call-to-action that encourages users to take action. This could be a link to a new employee moment, a call-to-action to create a new employee moment, or a call-to-action to learn more about retirement.\n",
      "\n",
      "Overall, the page should provide a comprehensive and useful hub of employee moments that can be easily navigated and accessed by users.<|endoftext|>\n"
     ]
    }
   ],
   "source": [
    "with torch.no_grad(): \n",
    "# \tx = '''Human: Why are anti viral drugs only used for life threatening viruses?\n",
    "# Assistant:'''\n",
    "\tx = '''Human: I've made a hub site comprised of various employee moments (from onboarding to offboarding and other life events such as getting married, getting sick, etc. in between). The last employee moment is retirement (which should be separate from offboarding). How do you feel the page should look like?\n",
    "Assistant:'''\n",
    "# \tx = '''Human: What is potential energy?\n",
    "# Assistant:'''\n",
    "\tinputs = tokenizer(x, return_tensors='pt', max_length=MAX_LEN, padding='longest', truncation=True)\n",
    "\tout = model.generate(**inputs.to(device), max_new_tokens=512, temperature=0.5, do_sample=True)\n",
    "\tprint(tokenizer.decode(out[0]))\n",
    "\n",
    "# Human: Why are anti viral drugs only used for life threatening viruses?\n",
    "# Assistant:  Antiviral drugs are used to treat viral infections, such as HIV, hepatitis B, hepatitis C, and hepatitis D. These drugs can be used to treat a wide range of viral infections, such as HIV, hepatitis B, hepatitis C, and hepatitis D. These drugs can be used to treat a wide range of viral infections, such as HIV, hepatitis B, hepatitis C, and hepatitis D. These drugs can be used to treat a wide range of viral infections, such as HIV, hepatitis B, hepatitis C, and hepatitis D. These drugs can be used to treat a wide range of viral infections, such as HIV, hepatitis B, hepatitis C, and hepatitis D. These drugs can be used to treat a wide range of viral infections, such as HIV, hepatitis B, hepatitis C, and hepatitis D. These drugs can be used to treat a wide range of viral infections, such as HIV, hepatitis B, hepatitis C, and hepatitis D. These drugs can be used to treat a wide range of viral infections, such as HIV, hepatitis B, hepatitis C, and hepatitis D. These drugs can be used to treat a wide range of viral infections, such as HIV, hepatitis B, hepatitis C, and hepatitis D. These drugs can be used to treat\n",
    "\n",
    "#BLOOM BEST: \n",
    "# Assistant: The reason for the limited use of anti viral drugs for life threatening viruses is due to the fact that the majority of viruses are not known to cause harm. Therefore, the vast majority of viruses are not known to cause harm, and the majority of drugs are not known to cause harm. The reasons for the limited use of anti viral drugs for life threatening viruses include:\n",
    "\n",
    "# 1. They are not known to cause harm. Anti viruses are not known to cause harm in the majority of cases, and therefore the majority of viruses are not known to cause harm.\n",
    "# 2. They are not known to cause harm to humans. Anti viruses are not known to cause harm to humans in the majority of cases, and therefore the majority of viruses are not known to cause harm to humans.\n",
    "# 3. They are not known to cause harm to animals. Anti viruses are not known to cause harm to animals in the majority of cases, and therefore the majority of viruses are not known to cause harm to animals.\n",
    "\n",
    "# Therefore, the majority of drugs are not known to cause harm to humans, and the majority of viruses are not known to cause harm to humans.</s>"
   ]
  },
  {
   "cell_type": "code",
   "execution_count": 14,
   "metadata": {},
   "outputs": [
    {
     "name": "stderr",
     "output_type": "stream",
     "text": [
      "Setting `pad_token_id` to `eos_token_id`:0 for open-end generation.\n"
     ]
    },
    {
     "name": "stdout",
     "output_type": "stream",
     "text": [
      "Assistant: The general name of energy which has to do with location relative to something else is called potential energy. In this particular case, of course, we call it gravitational potential energy. If it is a question of electrical forces against which we are working, instead of gravitational forces, if we are “lifting” charges away from other charges with a lot of levers, then the energy content is called electrical potential energy. The general principle is that the change in the energy is the force times the distance that the force is pushed, and that this is a change in energy in general:\n",
      "Fig. 14-3. The potential energy between two atoms as a function of the distance between them.\n",
      "Remember that the potential φ has a physical significance: it is the potential energy which a unit charge would have if brought to the specified point in space from some reference point.\n",
      "etc., which are acting with respect to one another in pairs due to forces all of which are conservative. In these circumstances the kinetic energy in the entire system is simply the sum of the kinetic energies of all of the particular atoms or planets or whatever, and the potential energy of the system is the sum, over the pairs of particles, of the potential energy of mutual interaction of a single pair, as though the others were not there. (This is really not true for molecular forces, and the formula is somewhat more complicated; it certainly is true for Newtonian gravitation, and it is true as an approximation for molecular forces. For molecular forces there is a potential energy, but it is sometimes a more complicated function of the positions of the atoms than simply a sum of terms from pairs.) In the special case of gravity, therefore, the potential energy is the sum, over all the pairs i and j, of Gmimj/rij, as was indicated in Eq. (). Equation () expressed mathematically the following proposition: that the total kinetic energy plus the total potential energy does not change with time. As the various planets wheel about, and turn and twist and so on, if we calculate the total kinetic energy and the total potential energy we find that the total remains constant.\n",
      "\n",
      "Human: Based on what you said, what is Potential Energy?\n",
      "Assistant: Potential energy is a measure of the energy required to move a particle. It is a measure of the energy that would be required to lift a particle off the ground, such as a car or a building, and to move it to a different location. It is also a measure of the potential energy\n",
      "\n",
      "<|padding|><|padding|><|padding|><|padding|><|padding|><|padding|><|padding|><|padding|><|padding|><|padding|><|padding|><|padding|><|padding|><|padding|><|padding|><|padding|><|padding|><|padding|><|padding|><|padding|><|padding|><|padding|><|padding|><|padding|><|padding|><|padding|><|padding|><|padding|><|padding|><|padding|><|padding|><|padding|><|padding|><|padding|><|padding|><|padding|><|padding|><|padding|><|padding|><|padding|><|padding|><|padding|><|padding|><|padding|><|padding|><|padding|><|padding|><|padding|><|padding|><|padding|><|padding|><|padding|><|padding|><|padding|><|padding|><|padding|><|padding|><|padding|><|padding|><|padding|><|padding|><|padding|><|padding|><|padding|><|padding|><|padding|><|padding|><|padding|><|padding|><|padding|><|padding|><|padding|><|padding|><|padding|><|padding|><|padding|><|padding|><|padding|><|padding|><|padding|><|padding|><|padding|><|padding|><|padding|><|padding|><|padding|><|padding|><|padding|><|padding|><|padding|><|padding|><|padding|><|padding|><|padding|><|padding|><|padding|><|padding|><|padding|><|padding|><|padding|><|padding|><|padding|><|padding|><|padding|><|padding|><|padding|><|padding|><|padding|><|padding|><|padding|><|padding|><|padding|><|padding|><|padding|><|padding|><|padding|><|padding|><|padding|><|padding|><|padding|><|padding|><|padding|><|padding|><|padding|><|padding|><|padding|><|padding|><|padding|><|padding|><|padding|><|padding|><|padding|><|padding|><|padding|><|padding|><|padding|><|padding|><|padding|><|padding|><|padding|><|padding|><|padding|><|padding|><|padding|><|padding|><|padding|><|padding|><|padding|><|padding|><|padding|><|padding|><|padding|><|padding|><|padding|><|padding|><|padding|><|padding|><|padding|><|padding|><|padding|><|padding|><|padding|><|padding|>Assistant: be simple. Try to imagine what makes a drag on an airplane flying through the air—the air rushing over the wings, the swirling in the back, the changes going on around the fuselage, and many other complications, and you see that there is not going to be a simple law. On the other hand, it is a remarkable fact that the drag force on an airplane is approximately a constant times the square of the velocity, or F cv2.\n",
      "law that can be used in the design of airplanes, but this law is not in the same class as the basic laws of physics, and further study of it will only make it more and more complicated. A study of how the coefficient c depends on the shape of the front of the airplane is, to put it mildly, frustrating. There just is no simple law for determining the coefficient in terms of the shape of the airplane. In contrast, the law of gravitation is simple, and further study only indicates its greater simplicity.\n",
      "air—they get too heavy to be supported any longer in the updraft. As they come down, they draw a little air with them and start a downdraft. And surprisingly enough, it is easy to see that once the downdraft is started, it will maintain itself. The air now drives itself down!\n",
      "\n",
      "Human: Based on what you said, what makes an airplane fly? \n",
      "Assistant: The answer to this question is a complex one, involving numerous factors, including the laws of physics, the aerodynamics of the aircraft, and the behavior of air and water. However, some general principles can be summarized as follows:\n",
      "\n",
      "1. Air is a fluid, and its motion is\n",
      "\n",
      "<|padding|><|padding|><|padding|><|padding|><|padding|><|padding|><|padding|><|padding|><|padding|><|padding|><|padding|><|padding|><|padding|><|padding|><|padding|><|padding|><|padding|><|padding|><|padding|><|padding|><|padding|><|padding|><|padding|><|padding|><|padding|><|padding|><|padding|><|padding|><|padding|><|padding|><|padding|><|padding|><|padding|><|padding|><|padding|><|padding|><|padding|><|padding|><|padding|><|padding|><|padding|><|padding|><|padding|><|padding|><|padding|><|padding|><|padding|><|padding|><|padding|><|padding|><|padding|><|padding|><|padding|><|padding|><|padding|><|padding|><|padding|><|padding|><|padding|><|padding|><|padding|><|padding|><|padding|><|padding|><|padding|><|padding|><|padding|><|padding|><|padding|><|padding|><|padding|><|padding|><|padding|>Assistant: Where do the currents come from? One possibility would be from the motion of the electrons in atomic orbits. Actually, that is not the case for iron, although it is for some materials. In addition to moving around in an atom, an electron also spins about on its own axis—something like the spin of the earth—and it is the current from this spin that gives the magnetic field in iron. (We say “something like the spin of the earth” because the question is so deep in quantum mechanics that the classical ideas do not really describe things too well.) In most substances, some electrons spin one way and some spin the other, so the magnetism cancels out, but in iron—for a mysterious reason which we will discuss later—many of the electrons are spinning with their axes lined up, and that is the source of the magnetism.\n",
      "In any case, we have found an induced atomic moment proportional to the magnetic field B and opposing it. This is diamagnetism of matter. It is this magnetic effect that is responsible for the small force on a piece of bismuth in a nonuniform magnetic field. (You could compute the force by working out the energy of the induced moments in the field and seeing how the energy changes as the material is moved into or out of the high-field region.)\n",
      "We find that the induced magnetization—the magnetic moment per unit volume—is proportional to the magnetic field. This is the phenomenon of paramagnetism. You will see that the effect is stronger at lower temperatures and weaker at higher temperatures. When we put a field on a substance, it develops, for small fields, a magnetic moment proportional to the field. The ratio of M to B (for small fields) is called the magnetic susceptibility.\n",
      "\n",
      "Human: Based on what you said, what causes magnetism? \n",
      "Assistant: Magnetism is caused by the magnetic field generated by an electric current flowing through a magnet. The current is induced by the magnetic field, which is created by the electric current flowing through the material. When an electric current flows, it creates a magnetic field, which is caused by the electric current\n",
      "\n",
      "<|padding|><|padding|><|padding|><|padding|><|padding|><|padding|><|padding|><|padding|><|padding|><|padding|><|padding|><|padding|><|padding|><|padding|><|padding|><|padding|><|padding|><|padding|><|padding|><|padding|><|padding|><|padding|><|padding|><|padding|><|padding|><|padding|><|padding|><|padding|><|padding|><|padding|><|padding|><|padding|><|padding|><|padding|><|padding|><|padding|><|padding|><|padding|><|padding|><|padding|><|padding|><|padding|><|padding|><|padding|><|padding|><|padding|><|padding|><|padding|><|padding|><|padding|><|padding|><|padding|><|padding|><|padding|><|padding|><|padding|><|padding|><|padding|><|padding|><|padding|><|padding|><|padding|><|padding|><|padding|><|padding|><|padding|><|padding|><|padding|><|padding|><|padding|><|padding|><|padding|><|padding|><|padding|><|padding|><|padding|><|padding|><|padding|><|padding|><|padding|><|padding|><|padding|><|padding|><|padding|><|padding|><|padding|>Assistant: Hunan First Normal University. Hunan First Normal University, founded in 1903, is a higher education institution located in Yuelu District, Changsha, Hunan Province, China.\n",
      "Profile of Hunan First Normal College. Hunan First Normal College ---the alma mater of Mao Zedong, was founded in. 1903, and can date back to the Nan Song Dynasty when Southern Changsha City. Academy was founded. Now it is a three-year normal college, and enjoying the.\n",
      "Hunan First Normal University covers a total area of 1346 mu, with more than 420,000 square meters of floor space. The university is divided into 10 colleges.\n",
      "Hunan First Normal University. Public University, Changsha City, Hunan province, China. Introduction. Hunan First Normal University - the alma mater of Mao Zedong, was founded in 1903, and can date back to the Nan Song Dynasty when Southern Changsha City Academy was founded.\n",
      "Publish your University Ranking. Established in 1903, Hunan First Normal University is a higher education institution located in the large city of Changsha (population range of 1,000,000-5,000,000 inhabitants), Hunan. Officially accredited/recognized by the Department of Education, Hunan Province, Hunan First Normal University is a coeducational higher education institution.\n",
      "As I couldn't find the Red Hotel in the Changsha hotel section, I thought I'd review it here. It's associated with the University. Just about everything else was poor. The rooms are shabby. They provide minimal toiletries once during a three day stay.\n",
      "\n",
      "Human: Based on what you said, how many colleges does hunan first normal university have? \n",
      "Assistant: According to your information, Hunan First Normal University has 10 colleges.<|endoftext|><|endoftext|><|endoftext|><|endoftext|><|endoftext|><|endoftext|><|endoftext|><|endoftext|><|endoftext|><|endoftext|><|endoftext|><|endoftext|><|endoftext|><|endoftext|><|endoftext|><|endoftext|><|endoftext|><|endoftext|><|endoftext|><|endoftext|><|endoftext|><|endoftext|><|endoftext|><|endoftext|><|endoftext|><|endoftext|><|endoftext|><|endoftext|><|endoftext|><|endoftext|><|endoftext|><|endoftext|><|endoftext|><|endoftext|><|endoftext|><|endoftext|><|endoftext|><|endoftext|><|endoftext|><|endoftext|><|endoftext|><|endoftext|><|endoftext|><|endoftext|><|endoftext|>\n",
      "\n"
     ]
    }
   ],
   "source": [
    "test = ['''Assistant: The general name of energy which has to do with location relative to something else is called potential energy. In this particular case, of course, we call it gravitational potential energy. If it is a question of electrical forces against which we are working, instead of gravitational forces, if we are “lifting” charges away from other charges with a lot of levers, then the energy content is called electrical potential energy. The general principle is that the change in the energy is the force times the distance that the force is pushed, and that this is a change in energy in general:\n",
    "Fig. 14-3. The potential energy between two atoms as a function of the distance between them.\n",
    "Remember that the potential φ has a physical significance: it is the potential energy which a unit charge would have if brought to the specified point in space from some reference point.\n",
    "etc., which are acting with respect to one another in pairs due to forces all of which are conservative. In these circumstances the kinetic energy in the entire system is simply the sum of the kinetic energies of all of the particular atoms or planets or whatever, and the potential energy of the system is the sum, over the pairs of particles, of the potential energy of mutual interaction of a single pair, as though the others were not there. (This is really not true for molecular forces, and the formula is somewhat more complicated; it certainly is true for Newtonian gravitation, and it is true as an approximation for molecular forces. For molecular forces there is a potential energy, but it is sometimes a more complicated function of the positions of the atoms than simply a sum of terms from pairs.) In the special case of gravity, therefore, the potential energy is the sum, over all the pairs i and j, of Gmimj/rij, as was indicated in Eq. (). Equation () expressed mathematically the following proposition: that the total kinetic energy plus the total potential energy does not change with time. As the various planets wheel about, and turn and twist and so on, if we calculate the total kinetic energy and the total potential energy we find that the total remains constant.\n",
    "\n",
    "Human: Based on what you said, what is Potential Energy?\n",
    "Assistant:''',\n",
    "'''Assistant: be simple. Try to imagine what makes a drag on an airplane flying through the air—the air rushing over the wings, the swirling in the back, the changes going on around the fuselage, and many other complications, and you see that there is not going to be a simple law. On the other hand, it is a remarkable fact that the drag force on an airplane is approximately a constant times the square of the velocity, or F cv2.\n",
    "law that can be used in the design of airplanes, but this law is not in the same class as the basic laws of physics, and further study of it will only make it more and more complicated. A study of how the coefficient c depends on the shape of the front of the airplane is, to put it mildly, frustrating. There just is no simple law for determining the coefficient in terms of the shape of the airplane. In contrast, the law of gravitation is simple, and further study only indicates its greater simplicity.\n",
    "air—they get too heavy to be supported any longer in the updraft. As they come down, they draw a little air with them and start a downdraft. And surprisingly enough, it is easy to see that once the downdraft is started, it will maintain itself. The air now drives itself down!\n",
    "\n",
    "Human: Based on what you said, what makes an airplane fly? \n",
    "Assistant:''', \n",
    "'''Assistant: Where do the currents come from? One possibility would be from the motion of the electrons in atomic orbits. Actually, that is not the case for iron, although it is for some materials. In addition to moving around in an atom, an electron also spins about on its own axis—something like the spin of the earth—and it is the current from this spin that gives the magnetic field in iron. (We say “something like the spin of the earth” because the question is so deep in quantum mechanics that the classical ideas do not really describe things too well.) In most substances, some electrons spin one way and some spin the other, so the magnetism cancels out, but in iron—for a mysterious reason which we will discuss later—many of the electrons are spinning with their axes lined up, and that is the source of the magnetism.\n",
    "In any case, we have found an induced atomic moment proportional to the magnetic field B and opposing it. This is diamagnetism of matter. It is this magnetic effect that is responsible for the small force on a piece of bismuth in a nonuniform magnetic field. (You could compute the force by working out the energy of the induced moments in the field and seeing how the energy changes as the material is moved into or out of the high-field region.)\n",
    "We find that the induced magnetization—the magnetic moment per unit volume—is proportional to the magnetic field. This is the phenomenon of paramagnetism. You will see that the effect is stronger at lower temperatures and weaker at higher temperatures. When we put a field on a substance, it develops, for small fields, a magnetic moment proportional to the field. The ratio of M to B (for small fields) is called the magnetic susceptibility.\n",
    "\n",
    "Human: Based on what you said, what causes magnetism? \n",
    "Assistant:''', \n",
    "'''Assistant: Hunan First Normal University. Hunan First Normal University, founded in 1903, is a higher education institution located in Yuelu District, Changsha, Hunan Province, China.\n",
    "Profile of Hunan First Normal College. Hunan First Normal College ---the alma mater of Mao Zedong, was founded in. 1903, and can date back to the Nan Song Dynasty when Southern Changsha City. Academy was founded. Now it is a three-year normal college, and enjoying the.\n",
    "Hunan First Normal University covers a total area of 1346 mu, with more than 420,000 square meters of floor space. The university is divided into 10 colleges.\n",
    "Hunan First Normal University. Public University, Changsha City, Hunan province, China. Introduction. Hunan First Normal University - the alma mater of Mao Zedong, was founded in 1903, and can date back to the Nan Song Dynasty when Southern Changsha City Academy was founded.\n",
    "Publish your University Ranking. Established in 1903, Hunan First Normal University is a higher education institution located in the large city of Changsha (population range of 1,000,000-5,000,000 inhabitants), Hunan. Officially accredited/recognized by the Department of Education, Hunan Province, Hunan First Normal University is a coeducational higher education institution.\n",
    "As I couldn't find the Red Hotel in the Changsha hotel section, I thought I'd review it here. It's associated with the University. Just about everything else was poor. The rooms are shabby. They provide minimal toiletries once during a three day stay.\n",
    "\n",
    "Human: Based on what you said, how many colleges does hunan first normal university have? \n",
    "Assistant:''']\n",
    "\n",
    "with torch.no_grad(): \n",
    "\tinputs = tokenizer(test, return_tensors='pt', max_length=MAX_LEN, padding='longest', truncation=True)\n",
    "\tout = model.generate(**inputs.to(device), max_length=512, temperature=0.5, do_sample=True)#, length_penalty=-100.0, repetition_penalty=0.01)\n",
    "\td = tokenizer.batch_decode(out)\n",
    "\tfor i in d: \n",
    "\t\tprint(i, end='\\n\\n') "
   ]
  },
  {
   "cell_type": "code",
   "execution_count": null,
   "metadata": {},
   "outputs": [],
   "source": []
  }
 ],
 "metadata": {
  "kernelspec": {
   "display_name": "AI_310",
   "language": "python",
   "name": "python3"
  },
  "language_info": {
   "codemirror_mode": {
    "name": "ipython",
    "version": 3
   },
   "file_extension": ".py",
   "mimetype": "text/x-python",
   "name": "python",
   "nbconvert_exporter": "python",
   "pygments_lexer": "ipython3",
   "version": "3.11.0rc1"
  },
  "orig_nbformat": 4
 },
 "nbformat": 4,
 "nbformat_minor": 2
}
